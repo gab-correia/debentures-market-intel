{
 "cells": [
  {
   "cell_type": "code",
   "execution_count": 9,
   "id": "1283cae0",
   "metadata": {},
   "outputs": [],
   "source": [
    "import sys, os\n",
    "\n",
    "# adiciona a pasta raiz \"cvm\" ao sys.path\n",
    "sys.path.append(os.path.abspath(\"..\"))\n",
    "\n",
    "# agora dá para importar de src/\n",
    "from src.cvm2 import extract_info, fetch_requerimento\n",
    "import pandas as pd\n"
   ]
  },
  {
   "cell_type": "code",
   "execution_count": null,
   "id": "c666ca30",
   "metadata": {},
   "outputs": [],
   "source": [
    "OUTPUT_DIR = os.path.join(\"..\", \"data\", \"processed\")\n",
    "os.makedirs(OUTPUT_DIR, exist_ok=True)"
   ]
  },
  {
   "cell_type": "code",
   "execution_count": 12,
   "id": "3437191a",
   "metadata": {},
   "outputs": [
    {
     "name": "stdout",
     "output_type": "stream",
     "text": [
      "✅ Arquivo final salvo em: c:\\Users\\gabriel\\OneDrive - Insper - Instituto de Ensino e Pesquisa\\Documents\\insper\\insperdata\\debentures-market-intel\\cvm\\notebooks\\data\\processed\\cvm_detalhes.csv\n"
     ]
    }
   ],
   "source": [
    "# Lê os ids do CSV gerado pelo cvm1.py\n",
    "ids_df = pd.read_csv(\"../data/raw/dados_cvm1.csv\")\n",
    "ids = ids_df[\"idRequerimento\"].tolist()\n",
    "\n",
    "all_rows = []\n",
    "for id_req in ids:\n",
    "    try:\n",
    "        detalhe = fetch_requerimento(id_req)\n",
    "        all_rows.extend(extract_info(detalhe))\n",
    "    except Exception as e:\n",
    "        print(f\"⚠️ Erro ao processar {id_req}: {e}\")\n",
    "\n",
    "# Monta o DataFrame final\n",
    "df = pd.DataFrame(all_rows)\n",
    "\n",
    "# Salva em CSV (ou Parquet)\n",
    "output_path = os.path.join(OUTPUT_DIR, \"cvm_detalhes.csv\")\n",
    "df.to_csv(output_path, index=False, encoding=\"utf-8-sig\")\n",
    "\n",
    "print(\"✅ Arquivo final salvo em:\", os.path.abspath(output_path))\n"
   ]
  }
 ],
 "metadata": {
  "kernelspec": {
   "display_name": "base",
   "language": "python",
   "name": "python3"
  },
  "language_info": {
   "codemirror_mode": {
    "name": "ipython",
    "version": 3
   },
   "file_extension": ".py",
   "mimetype": "text/x-python",
   "name": "python",
   "nbconvert_exporter": "python",
   "pygments_lexer": "ipython3",
   "version": "3.12.4"
  }
 },
 "nbformat": 4,
 "nbformat_minor": 5
}
